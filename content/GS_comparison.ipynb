{
 "cells": [
  {
   "cell_type": "markdown",
   "metadata": {},
   "source": [
    "## Motivation\n",
    "\n",
    "Recently, I started working on updating my CV and I wanted to know how well I am performing among other researchers in my field. The usual metrics such as h-index, number of citations, or number of publications in peer-review journals may provide some initial idea about the researcher's performane, and can be easily obtained, for example, from a Google Scholar profile. However, these metrics don't take into account many important factors such as the length of scientific carrier and its level (PhD candidate, postdoctoral scholar, assistant or associate professor), the field of study (some field are more cited than the other), type of research (individual or collaborative), type of journals (high impact factor journals usually require more much more time and effort for manuscript preparation and peer-review process), and so on.\n",
    "\n",
    "\n",
    "\n",
    "\n"
   ]
  },
  {
   "cell_type": "code",
   "execution_count": null,
   "metadata": {},
   "outputs": [],
   "source": []
  }
 ],
 "metadata": {
  "kernelspec": {
   "display_name": "Python 3",
   "language": "python",
   "name": "python3"
  },
  "language_info": {
   "codemirror_mode": {
    "name": "ipython",
    "version": 3
   },
   "file_extension": ".py",
   "mimetype": "text/x-python",
   "name": "python",
   "nbconvert_exporter": "python",
   "pygments_lexer": "ipython3",
   "version": "3.7.3"
  }
 },
 "nbformat": 4,
 "nbformat_minor": 2
}
