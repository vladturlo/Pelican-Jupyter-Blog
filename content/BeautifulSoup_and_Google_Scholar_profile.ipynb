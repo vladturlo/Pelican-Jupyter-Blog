{
 "cells": [
  {
   "cell_type": "markdown",
   "metadata": {},
   "source": [
    "## Motivation\n",
    "\n",
    "Around half a year ago, one of my projects required to retrieve some data about my publications from my Google Scholar profile. At that moment, I managed to do it by using the [scholarly](https://github.com/OrganicIrradiation/scholarly) Python module, which allows retrieving author and publication information from Google Scholar in a friendly, Pythonic way. However, Google recently started constantly changing the names of attributes inside many HTML tags, making such modules completely useless (you can read more about such issue [here](https://github.com/OrganicIrradiation/scholarly/issues/37)). Thus, I started looking for a more stable solution that is not involving the HTML attributes to retrieve the information I needed. I developed my own code using the BeautifulSoup4 module and wanted to share the way I did it here in the case someone finds it useful. \n",
    "___"
   ]
  },
  {
   "cell_type": "markdown",
   "metadata": {},
   "source": [
    "## Exploring a Google Sholar profile\n",
    "\n",
    "First, I explore my Google Scholar profile to determine the elements of the page that consist of the information I need such as my publications and number of citations. After I access my profile using this link: [https://scholar.google.com/citations?user=Jid5DjYAAAAJ&hl=en](https://scholar.google.com/citations?user=Jid5DjYAAAAJ&hl=en), I can see that such information organized as a table (see the red frame below).\n",
    "![Google Scholar profile](images/GS_profile.jpg \"Vlad Turlo's Google Scholar profile in May 2019\")\n",
    "\n",
    "Also, as you may notice, there is another table in the top right corner with the total number of citations and different metrics, such as h-index and i10-index. This data may be also useful and also stored as a table, so we will put the focus on extracting tables from this specific page, while the final code will be useful to parse any Google Scholar profile.\n",
    "\n",
    "---"
   ]
  },
  {
   "cell_type": "markdown",
   "metadata": {},
   "source": [
    "## Let's code!\n",
    "\n",
    "This is my favorite part. First, let's get the source code of the HTML page above using the awesome [requests](https://2.python-requests.org/en/master/) module. As it is mentioned by the authors of this module: \n",
    ">Requests is the only Non-GMO HTTP library for Python, safe for human consumption. Requests allow you to send organic, grass-fed HTTP/1.1 requests, without the need for manual labor. "
   ]
  },
  {
   "cell_type": "code",
   "execution_count": 2,
   "metadata": {},
   "outputs": [
    {
     "data": {
      "text/plain": [
       "<Response [200]>"
      ]
     },
     "execution_count": 2,
     "metadata": {},
     "output_type": "execute_result"
    }
   ],
   "source": [
    "# import the module\n",
    "import requests\n",
    "\n",
    "# request the page with the Google Scholar profile\n",
    "requests.get(\"https://scholar.google.com/citations?user=Jid5DjYAAAAJ&hl=en\")"
   ]
  },
  {
   "cell_type": "markdown",
   "metadata": {},
   "source": [
    "Such a response means that the page was successfully retrieved. Let's save the response into the variable and look at what is inside:"
   ]
  },
  {
   "cell_type": "code",
   "execution_count": 3,
   "metadata": {},
   "outputs": [
    {
     "data": {
      "text/plain": [
       "'<!doctype html><html><head><title>Vladyslav Turlo - Google Scholar Citations</title><meta http-equiv=\"Content-Type\" content=\"text/html;charset=ISO-8859-1\"><meta http-equiv=\"X-UA-Compatible\" content=\"IE=Edge\"><meta name=\"referrer\" content=\"always\"><meta name=\"viewport\" content=\"width=device-width,initial-scale=1,minimum-scale=1,maximum-scale=2\"><meta name=\"format-detection\" content=\"telephone=no\"><link rel=\"shortcut icon\" href=\"/favicon.ico\"><link rel=\"canonical\" href=\"http://scholar.google.com.ua/citations?user=Jid5DjYAAAAJ&amp;hl=ru\"><style>html,body,form,table,div,h1,h2,h3,h4,h5,h6,img,ol,ul,li,button{margin:0;padding:0;border:0;}table{border-collapse:collapse;border-width:0;empty-cells:show;}html,body{height:100%}#gs_top{position:relative;box-sizing:border-box;min-height:100%;min-width:964px;-webkit-tap-highlight-color:rgba(0,0,0,0);}#gs_top>*:not(#x){-webkit-tap-highlight-color:rgba(204,204,204,.5);}.gs_el_ph #gs_top,.gs_el_ta #gs_top{min-width:320px;}#gs_top.gs_nscl{position:fixed'"
      ]
     },
     "execution_count": 3,
     "metadata": {},
     "output_type": "execute_result"
    }
   ],
   "source": [
    "# request the page with the Google Scholar profile\n",
    "r = requests.get(\"https://scholar.google.com/citations?user=Jid5DjYAAAAJ&hl=en\")\n",
    "\n",
    "# show the response as the text (the first 1000 symbols):\n",
    "r.text[:1000]"
   ]
  },
  {
   "cell_type": "markdown",
   "metadata": {},
   "source": [
    "As you can see, the response has the raw HTML code that basically tells how to organize all the information at the webpage.   Thus, we need some parser to extract the information we are interested in without a real burden. And the solution here, as you may expect from the title of this post, is the [BeautifulSoup4](https://www.crummy.com/software/BeautifulSoup/bs4/doc/) module. As its developers fairly mentioned in the description:\n",
    ">Beautiful Soup is a Python library for pulling data out of HTML and XML files. It works with your favorite parser to provide idiomatic ways of navigating, searching and modifying the parse tree. **It commonly saves programmers hours or days of work.**\n",
    "\n",
    "So, let's go ahead and make the soup:"
   ]
  },
  {
   "cell_type": "code",
   "execution_count": 4,
   "metadata": {},
   "outputs": [
    {
     "data": {
      "text/plain": [
       "bs4.BeautifulSoup"
      ]
     },
     "execution_count": 4,
     "metadata": {},
     "output_type": "execute_result"
    }
   ],
   "source": [
    "# import the module\n",
    "from bs4 import BeautifulSoup\n",
    "\n",
    "# parse the text from our request\n",
    "soup = BeautifulSoup(r.text, \"html.parser\")\n",
    "type(soup)"
   ]
  },
  {
   "cell_type": "markdown",
   "metadata": {},
   "source": [
    "Now, we can extract elements of the webpage in a very simple way. For example, let's get a title of the page:"
   ]
  },
  {
   "cell_type": "code",
   "execution_count": 5,
   "metadata": {},
   "outputs": [
    {
     "data": {
      "text/plain": [
       "<title>Vladyslav Turlo - Google Scholar Citations</title>"
      ]
     },
     "execution_count": 5,
     "metadata": {},
     "output_type": "execute_result"
    }
   ],
   "source": [
    "soup.title"
   ]
  },
  {
   "cell_type": "markdown",
   "metadata": {},
   "source": [
    "If we need just the text without HTML tags, we simply do:"
   ]
  },
  {
   "cell_type": "code",
   "execution_count": 6,
   "metadata": {},
   "outputs": [
    {
     "data": {
      "text/plain": [
       "'Vladyslav Turlo - Google Scholar Citations'"
      ]
     },
     "execution_count": 6,
     "metadata": {},
     "output_type": "execute_result"
    }
   ],
   "source": [
    "soup.title.text"
   ]
  },
  {
   "cell_type": "markdown",
   "metadata": {},
   "source": [
    "After that, we can easily get the scholar's name just by spliting the string above:"
   ]
  },
  {
   "cell_type": "code",
   "execution_count": 7,
   "metadata": {},
   "outputs": [
    {
     "name": "stdout",
     "output_type": "stream",
     "text": [
      "Vladyslav Turlo\n"
     ]
    }
   ],
   "source": [
    "scholar_name = soup.title.text.split(\" - \")[0]\n",
    "print(scholar_name)"
   ]
  },
  {
   "cell_type": "markdown",
   "metadata": {},
   "source": [
    "From analyzing the original webpage, we remember that the information we need is stored in tables. So, let's find all the tables in our soup. The BeautifulSoup4 module allows us to do this with just one line of code:"
   ]
  },
  {
   "cell_type": "code",
   "execution_count": 8,
   "metadata": {},
   "outputs": [
    {
     "name": "stdout",
     "output_type": "stream",
     "text": [
      "2\n"
     ]
    }
   ],
   "source": [
    "# find all the tables\n",
    "tables = soup.find_all(\"table\")\n",
    "\n",
    "# print the number of tables found\n",
    "print(len(tables))"
   ]
  },
  {
   "cell_type": "markdown",
   "metadata": {},
   "source": [
    "As we expected, we have just two tables at the page. Let's look at the first one:"
   ]
  },
  {
   "cell_type": "code",
   "execution_count": 9,
   "metadata": {},
   "outputs": [
    {
     "name": "stdout",
     "output_type": "stream",
     "text": [
      "<table id=\"gsc_rsb_st\"><thead><tr><th class=\"gsc_rsb_sth\"></th><th class=\"gsc_rsb_sth\">All</th><th class=\"gsc_rsb_sth\">Since 2014</th></tr></thead><tbody><tr><td class=\"gsc_rsb_sc1\"><a class=\"gsc_rsb_f gs_ibl\" href=\"javascript:void(0)\" title='This is the number of citations to all publications. The second column has the \"recent\" version of this metric which is the number of new citations in the last 5 years to all publications.'>Citations</a></td><td class=\"gsc_rsb_std\">84</td><td class=\"gsc_rsb_std\">82</td></tr><tr><td class=\"gsc_rsb_sc1\"><a class=\"gsc_rsb_f gs_ibl\" href=\"javascript:void(0)\" title='h-index is the largest number h such that h publications have at least h citations. The second column has the \"recent\" version of this metric which is the largest number h such that h publications have at least h new citations in the last 5 years.'>h-index</a></td><td class=\"gsc_rsb_std\">6</td><td class=\"gsc_rsb_std\">6</td></tr><tr><td class=\"gsc_rsb_sc1\"><a class=\"gsc_rsb_f gs_ibl\" href=\"javascript:void(0)\" title='i10-index is the number of publications with at least 10 citations. The second column has the \"recent\" version of this metric which is the number of publications that have received at least 10 new citations in the last 5 years.'>i10-index</a></td><td class=\"gsc_rsb_std\">3</td><td class=\"gsc_rsb_std\">3</td></tr></tbody></table>\n"
     ]
    }
   ],
   "source": [
    "print(tables[0])"
   ]
  },
  {
   "cell_type": "markdown",
   "metadata": {},
   "source": [
    "Looks quite messy, but thanks to the developers, we have some easy way to make it prettier:"
   ]
  },
  {
   "cell_type": "code",
   "execution_count": 10,
   "metadata": {},
   "outputs": [
    {
     "name": "stdout",
     "output_type": "stream",
     "text": [
      "<table id=\"gsc_rsb_st\">\n",
      " <thead>\n",
      "  <tr>\n",
      "   <th class=\"gsc_rsb_sth\">\n",
      "   </th>\n",
      "   <th class=\"gsc_rsb_sth\">\n",
      "    All\n",
      "   </th>\n",
      "   <th class=\"gsc_rsb_sth\">\n",
      "    Since 2014\n",
      "   </th>\n",
      "  </tr>\n",
      " </thead>\n",
      " <tbody>\n",
      "  <tr>\n",
      "   <td class=\"gsc_rsb_sc1\">\n",
      "    <a class=\"gsc_rsb_f gs_ibl\" href=\"javascript:void(0)\" title='This is the number of citations to all publications. The second column has the \"recent\" version of this metric which is the number of new citations in the last 5 years to all publications.'>\n",
      "     Citations\n",
      "    </a>\n",
      "   </td>\n",
      "   <td class=\"gsc_rsb_std\">\n",
      "    84\n",
      "   </td>\n",
      "   <td class=\"gsc_rsb_std\">\n",
      "    82\n",
      "   </td>\n",
      "  </tr>\n",
      "  <tr>\n",
      "   <td class=\"gsc_rsb_sc1\">\n",
      "    <a class=\"gsc_rsb_f gs_ibl\" href=\"javascript:void(0)\" title='h-index is the largest number h such that h publications have at least h citations. The second column has the \"recent\" version of this metric which is the largest number h such that h publications have at least h new citations in the last 5 years.'>\n",
      "     h-index\n",
      "    </a>\n",
      "   </td>\n",
      "   <td class=\"gsc_rsb_std\">\n",
      "    6\n",
      "   </td>\n",
      "   <td class=\"gsc_rsb_std\">\n",
      "    6\n",
      "   </td>\n",
      "  </tr>\n",
      "  <tr>\n",
      "   <td class=\"gsc_rsb_sc1\">\n",
      "    <a class=\"gsc_rsb_f gs_ibl\" href=\"javascript:void(0)\" title='i10-index is the number of publications with at least 10 citations. The second column has the \"recent\" version of this metric which is the number of publications that have received at least 10 new citations in the last 5 years.'>\n",
      "     i10-index\n",
      "    </a>\n",
      "   </td>\n",
      "   <td class=\"gsc_rsb_std\">\n",
      "    3\n",
      "   </td>\n",
      "   <td class=\"gsc_rsb_std\">\n",
      "    3\n",
      "   </td>\n",
      "  </tr>\n",
      " </tbody>\n",
      "</table>\n",
      "\n"
     ]
    }
   ],
   "source": [
    "print(tables[0].prettify())"
   ]
  },
  {
   "cell_type": "markdown",
   "metadata": {},
   "source": [
    "From the HTML syntax, we can see that the table have the head (**&lt;thead&gt;** tag) with a row (**&lt;tr&gt;** tag) of column names (**&lt;th&gt;** tags). Also, the table has the body (**&lt;tbody&gt;** tag) with rows (**&lt;tr&gt;** tags) and columns (**&lt;td&gt;** tags). Using our soup, let's first extract the array of column names for this table, making the loop over the elements of the row in a table head:"
   ]
  },
  {
   "cell_type": "code",
   "execution_count": 28,
   "metadata": {},
   "outputs": [
    {
     "name": "stdout",
     "output_type": "stream",
     "text": [
      "['', 'All', 'Since 2014']\n"
     ]
    }
   ],
   "source": [
    "# make a list of column names\n",
    "column_names = [name.text for name in tables[0].thead.tr]\n",
    "print(column_names)"
   ]
  },
  {
   "cell_type": "markdown",
   "metadata": {},
   "source": [
    "To extract the column names, we can also use the same method **findAll()** we used before to find the tables in our soup:"
   ]
  },
  {
   "cell_type": "code",
   "execution_count": 29,
   "metadata": {},
   "outputs": [
    {
     "name": "stdout",
     "output_type": "stream",
     "text": [
      "['', 'All', 'Since 2014']\n"
     ]
    }
   ],
   "source": [
    "# make a list of column names\n",
    "column_names = [name.text for name in tables[0].findAll('th')]\n",
    "print(column_names)"
   ]
  },
  {
   "cell_type": "markdown",
   "metadata": {},
   "source": [
    "Let's now extract data from the body of the table:"
   ]
  },
  {
   "cell_type": "code",
   "execution_count": 30,
   "metadata": {},
   "outputs": [
    {
     "name": "stdout",
     "output_type": "stream",
     "text": [
      "[['Citations', '84', '82'], ['h-index', '6', '6'], ['i10-index', '3', '3']]\n"
     ]
    }
   ],
   "source": [
    "# extract the data from the body of the table\n",
    "data = [[column.text for column in row.findAll('td')] for row in tables[0].tbody.findAll('tr')]\n",
    "print(data)"
   ]
  },
  {
   "cell_type": "markdown",
   "metadata": {},
   "source": [
    "The one pretty comfortable way to store and work with tables in Python is to use the **pandas DataFrames**.\n",
    "> [pandas](https://pandas.pydata.org/pandas-docs/stable/index.html) is an open source, BSD-licensed library providing high-performance, easy-to-use data structures and data analysis tools for the Python programming language.\n",
    "\n",
    "Let's import **pandas** module and transform our HTML table into the DataFrame:"
   ]
  },
  {
   "cell_type": "code",
   "execution_count": 31,
   "metadata": {},
   "outputs": [
    {
     "data": {
      "text/html": [
       "<div>\n",
       "<style scoped>\n",
       "    .dataframe tbody tr th:only-of-type {\n",
       "        vertical-align: middle;\n",
       "    }\n",
       "\n",
       "    .dataframe tbody tr th {\n",
       "        vertical-align: top;\n",
       "    }\n",
       "\n",
       "    .dataframe thead th {\n",
       "        text-align: right;\n",
       "    }\n",
       "</style>\n",
       "<table border=\"1\" class=\"dataframe\">\n",
       "  <thead>\n",
       "    <tr style=\"text-align: right;\">\n",
       "      <th></th>\n",
       "      <th>All</th>\n",
       "      <th>Since 2014</th>\n",
       "    </tr>\n",
       "    <tr>\n",
       "      <th></th>\n",
       "      <th></th>\n",
       "      <th></th>\n",
       "    </tr>\n",
       "  </thead>\n",
       "  <tbody>\n",
       "    <tr>\n",
       "      <th>Citations</th>\n",
       "      <td>84</td>\n",
       "      <td>82</td>\n",
       "    </tr>\n",
       "    <tr>\n",
       "      <th>h-index</th>\n",
       "      <td>6</td>\n",
       "      <td>6</td>\n",
       "    </tr>\n",
       "    <tr>\n",
       "      <th>i10-index</th>\n",
       "      <td>3</td>\n",
       "      <td>3</td>\n",
       "    </tr>\n",
       "  </tbody>\n",
       "</table>\n",
       "</div>"
      ],
      "text/plain": [
       "          All Since 2014\n",
       "                        \n",
       "Citations  84         82\n",
       "h-index     6          6\n",
       "i10-index   3          3"
      ]
     },
     "execution_count": 31,
     "metadata": {},
     "output_type": "execute_result"
    }
   ],
   "source": [
    "# import module\n",
    "import pandas as pd\n",
    "\n",
    "# create a new DataFrame using the column names we extracted above\n",
    "df1 = pd.DataFrame(columns = column_names)\n",
    "\n",
    "# add data to the DataFrame row by row\n",
    "for i,row in enumerate(data):\n",
    "    df1.loc[i] = row\n",
    "\n",
    "# make the first column as the index column in the DataFrame:\n",
    "df1 = df1.set_index(column_names[0])\n",
    "\n",
    "# show the final DataFrame\n",
    "df1"
   ]
  },
  {
   "cell_type": "markdown",
   "metadata": {},
   "source": [
    "Looks great! Let's now explore the second table:"
   ]
  },
  {
   "cell_type": "code",
   "execution_count": 39,
   "metadata": {},
   "outputs": [
    {
     "name": "stdout",
     "output_type": "stream",
     "text": [
      "Column names:\n",
      "['', '', '', 'Title', 'Cited by', 'Year']\n",
      "The first row of the table:\n",
      "['Dissolution process at solid/liquid interface in nanometric metallic multilayers: Molecular dynamics simulations versus diffusion modelingV Turlo, O Politano, F BarasActa Materialia 99, 363-372, 2015', '24', '2015']\n"
     ]
    }
   ],
   "source": [
    "# make a list of column names\n",
    "column_names = [name.text for name in tables[1].findAll('th')]\n",
    "print(\"Column names:\")\n",
    "print(column_names)\n",
    "\n",
    "# extract the data from the body of the table\n",
    "data = [[column.text for column in row.findAll('td')] for row in tables[1].tbody.findAll('tr')]\n",
    "\n",
    "print(\"The first row of the table:\")\n",
    "print(data[0])"
   ]
  },
  {
   "cell_type": "markdown",
   "metadata": {},
   "source": [
    "Two things we can notice here\n",
    "1. the number of column names is larger than the number of elements in a row of data\n",
    "2. the first element of the row of data is one string composed of publication title, author names, and journal information\n",
    "\n",
    "This makes the transformation of such HTML tables to the pandas DataFrames a little bit more complicated. Let's make a DataFrame with the following columns:\n",
    "* Publication title\n",
    "* Authors' names\n",
    "* Journal information\n",
    "* Cited by\n",
    "* Year\n",
    "\n",
    "The last two can be easily extracted from the second and third columns of the HTML table. However, to extract the other data, we have to dive deeper into the HTML code of the first column. Let's have a look at the first column of the first row of the body of the table:"
   ]
  },
  {
   "cell_type": "code",
   "execution_count": 44,
   "metadata": {},
   "outputs": [
    {
     "name": "stdout",
     "output_type": "stream",
     "text": [
      "<td class=\"gsc_a_t\">\n",
      " <a class=\"gsc_a_at\" data-href=\"/citations?view_op=view_citation&amp;hl=en&amp;oe=ASCII&amp;user=Jid5DjYAAAAJ&amp;citation_for_view=Jid5DjYAAAAJ:u-x6o8ySG0sC\" href=\"javascript:void(0)\">\n",
      "  Dissolution process at solid/liquid interface in nanometric metallic multilayers: Molecular dynamics simulations versus diffusion modeling\n",
      " </a>\n",
      " <div class=\"gs_gray\">\n",
      "  V Turlo, O Politano, F Baras\n",
      " </div>\n",
      " <div class=\"gs_gray\">\n",
      "  Acta Materialia 99, 363-372\n",
      "  <span class=\"gs_oph\">\n",
      "   , 2015\n",
      "  </span>\n",
      " </div>\n",
      "</td>\n",
      "\n"
     ]
    }
   ],
   "source": [
    "print(tables[1].tbody.tr.td.prettify())"
   ]
  },
  {
   "cell_type": "markdown",
   "metadata": {},
   "source": [
    "As we can see, the title of the publication can be accessed by using the **&lt;a&gt;** tag, while authors' names and journal information are stored under **&lt;div&gt;** tags. Let's then define a function that will split each row of the HTML table into the elements using the **&lt;a&gt;**, **&lt;div&gt;**, and **&lt;td&gt;** tags:"
   ]
  },
  {
   "cell_type": "code",
   "execution_count": 69,
   "metadata": {},
   "outputs": [
    {
     "data": {
      "text/plain": [
       "['Dissolution process at solid/liquid interface in nanometric metallic multilayers: Molecular dynamics simulations versus diffusion modeling',\n",
       " 'V Turlo, O Politano, F Baras',\n",
       " 'Acta Materialia 99, 363-372, 2015',\n",
       " '24',\n",
       " '2015']"
      ]
     },
     "execution_count": 69,
     "metadata": {},
     "output_type": "execute_result"
    }
   ],
   "source": [
    "# define the function to divide one row of the data on elements\n",
    "def divide(row):\n",
    "    # get publication title\n",
    "    try:\n",
    "        title = row.findAll('a')[0].text\n",
    "    except:\n",
    "        title = ''\n",
    "    # get authors' names\n",
    "    try:\n",
    "        authors = row.findAll('div')[0].text\n",
    "    except:\n",
    "        authors = ''\n",
    "    # get journal information\n",
    "    try:\n",
    "        journal_info = row.findAll('div')[1].text\n",
    "    except:\n",
    "        journal_info = ''\n",
    "    # get number of citations\n",
    "    try:\n",
    "        cited_by = row.findAll('td')[1].text\n",
    "    except:\n",
    "        cited_by = ''\n",
    "    # get publication year\n",
    "    try:\n",
    "        year = row.findAll('td')[2].text\n",
    "    except:\n",
    "        year = ''\n",
    "    # return all the data as a list\n",
    "    return [title, authors, journal_info, cited_by, year]\n",
    "\n",
    "\n",
    "# extract the data from the body of the table\n",
    "data = [divide(row) for row in tables[1].tbody.findAll('tr')]\n",
    "data[0]"
   ]
  },
  {
   "cell_type": "markdown",
   "metadata": {},
   "source": [
    "Great! Let's create the list of our custom column names and create the pandas DataFrame using the same code as for the first table:"
   ]
  },
  {
   "cell_type": "code",
   "execution_count": 71,
   "metadata": {},
   "outputs": [
    {
     "data": {
      "text/html": [
       "<div>\n",
       "<style scoped>\n",
       "    .dataframe tbody tr th:only-of-type {\n",
       "        vertical-align: middle;\n",
       "    }\n",
       "\n",
       "    .dataframe tbody tr th {\n",
       "        vertical-align: top;\n",
       "    }\n",
       "\n",
       "    .dataframe thead th {\n",
       "        text-align: right;\n",
       "    }\n",
       "</style>\n",
       "<table border=\"1\" class=\"dataframe\">\n",
       "  <thead>\n",
       "    <tr style=\"text-align: right;\">\n",
       "      <th></th>\n",
       "      <th>Publication title</th>\n",
       "      <th>List of authors</th>\n",
       "      <th>Journal information</th>\n",
       "      <th>Number of citations</th>\n",
       "      <th>Year</th>\n",
       "    </tr>\n",
       "  </thead>\n",
       "  <tbody>\n",
       "    <tr>\n",
       "      <th>0</th>\n",
       "      <td>Dissolution process at solid/liquid interface ...</td>\n",
       "      <td>V Turlo, O Politano, F Baras</td>\n",
       "      <td>Acta Materialia 99, 363-372, 2015</td>\n",
       "      <td>24</td>\n",
       "      <td>2015</td>\n",
       "    </tr>\n",
       "    <tr>\n",
       "      <th>1</th>\n",
       "      <td>Modeling self-sustaining waves of exothermic d...</td>\n",
       "      <td>V Turlo, O Politano, F Baras</td>\n",
       "      <td>Acta Materialia 120, 189-204, 2016</td>\n",
       "      <td>16</td>\n",
       "      <td>2016</td>\n",
       "    </tr>\n",
       "    <tr>\n",
       "      <th>2</th>\n",
       "      <td>Alloying propagation in nanometric Ni/Al multi...</td>\n",
       "      <td>V Turlo, O Politano, F Baras</td>\n",
       "      <td>Journal of Applied Physics 121 (5), 055304, 2017</td>\n",
       "      <td>10</td>\n",
       "      <td>2017</td>\n",
       "    </tr>\n",
       "    <tr>\n",
       "      <th>3</th>\n",
       "      <td>Grain boundary complexions and the strength of...</td>\n",
       "      <td>V Turlo, TJ Rupert</td>\n",
       "      <td>Acta Materialia 151, 100-111, 2018</td>\n",
       "      <td>8</td>\n",
       "      <td>2018</td>\n",
       "    </tr>\n",
       "    <tr>\n",
       "      <th>4</th>\n",
       "      <td>Comparative study of embedded-atom methods app...</td>\n",
       "      <td>V Turlo, F Baras, O Politano</td>\n",
       "      <td>Modelling and Simulation in Materials Science ...</td>\n",
       "      <td>7</td>\n",
       "      <td>2017</td>\n",
       "    </tr>\n",
       "    <tr>\n",
       "      <th>5</th>\n",
       "      <td>Microstructure evolution and self-propagating ...</td>\n",
       "      <td>V Turlo, O Politano, F Baras</td>\n",
       "      <td>Journal of Alloys and Compounds 708, 989-998, ...</td>\n",
       "      <td>6</td>\n",
       "      <td>2017</td>\n",
       "    </tr>\n",
       "    <tr>\n",
       "      <th>6</th>\n",
       "      <td>Dissolution at interfaces in layered solid-liq...</td>\n",
       "      <td>F Baras, V Turlo, O Politano</td>\n",
       "      <td>Journal of Materials Engineering and Performan...</td>\n",
       "      <td>4</td>\n",
       "      <td>2016</td>\n",
       "    </tr>\n",
       "    <tr>\n",
       "      <th>7</th>\n",
       "      <td>Model of phase separation and of morphology ev...</td>\n",
       "      <td>VV Turlo, AM Gusak, KN Tu</td>\n",
       "      <td>Philosophical Magazine 93 (16), 2013-2025, 2013</td>\n",
       "      <td>4</td>\n",
       "      <td>2013</td>\n",
       "    </tr>\n",
       "    <tr>\n",
       "      <th>8</th>\n",
       "      <td>Dislocation-assisted linear complexion formati...</td>\n",
       "      <td>V Turlo, TJ Rupert</td>\n",
       "      <td>Scripta Materialia 154, 25-29, 2018</td>\n",
       "      <td>2</td>\n",
       "      <td>2018</td>\n",
       "    </tr>\n",
       "    <tr>\n",
       "      <th>9</th>\n",
       "      <td>SHS in Ni/Al nanofoils: a review of experiment...</td>\n",
       "      <td>F Baras, V Turlo, O Politano, SG Vadchenko, AS...</td>\n",
       "      <td>Advanced Engineering Materials 20 (8), 1800091...</td>\n",
       "      <td>2</td>\n",
       "      <td>2018</td>\n",
       "    </tr>\n",
       "    <tr>\n",
       "      <th>10</th>\n",
       "      <td>Linear complexions: Metastable phase formation...</td>\n",
       "      <td>V Turlo, TJ Rupert</td>\n",
       "      <td>Physical Review Letters 122 (12), 126102, 2019</td>\n",
       "      <td>1</td>\n",
       "      <td>2019</td>\n",
       "    </tr>\n",
       "    <tr>\n",
       "      <th>11</th>\n",
       "      <td>MODELING OF ENTROPY PRODUCTION AND SELF-ORGANI...</td>\n",
       "      <td>AM Gusak, SV Marchenko, VV Turlo, AO Bogatyrev</td>\n",
       "      <td>UKRAINIAN JOURNAL OF PHYSICS 62 (12), 1031-104...</td>\n",
       "      <td></td>\n",
       "      <td>2017</td>\n",
       "    </tr>\n",
       "  </tbody>\n",
       "</table>\n",
       "</div>"
      ],
      "text/plain": [
       "                                    Publication title  \\\n",
       "0   Dissolution process at solid/liquid interface ...   \n",
       "1   Modeling self-sustaining waves of exothermic d...   \n",
       "2   Alloying propagation in nanometric Ni/Al multi...   \n",
       "3   Grain boundary complexions and the strength of...   \n",
       "4   Comparative study of embedded-atom methods app...   \n",
       "5   Microstructure evolution and self-propagating ...   \n",
       "6   Dissolution at interfaces in layered solid-liq...   \n",
       "7   Model of phase separation and of morphology ev...   \n",
       "8   Dislocation-assisted linear complexion formati...   \n",
       "9   SHS in Ni/Al nanofoils: a review of experiment...   \n",
       "10  Linear complexions: Metastable phase formation...   \n",
       "11  MODELING OF ENTROPY PRODUCTION AND SELF-ORGANI...   \n",
       "\n",
       "                                      List of authors  \\\n",
       "0                        V Turlo, O Politano, F Baras   \n",
       "1                        V Turlo, O Politano, F Baras   \n",
       "2                        V Turlo, O Politano, F Baras   \n",
       "3                                  V Turlo, TJ Rupert   \n",
       "4                        V Turlo, F Baras, O Politano   \n",
       "5                        V Turlo, O Politano, F Baras   \n",
       "6                        F Baras, V Turlo, O Politano   \n",
       "7                           VV Turlo, AM Gusak, KN Tu   \n",
       "8                                  V Turlo, TJ Rupert   \n",
       "9   F Baras, V Turlo, O Politano, SG Vadchenko, AS...   \n",
       "10                                 V Turlo, TJ Rupert   \n",
       "11     AM Gusak, SV Marchenko, VV Turlo, AO Bogatyrev   \n",
       "\n",
       "                                  Journal information Number of citations  \\\n",
       "0                   Acta Materialia 99, 363-372, 2015                  24   \n",
       "1                  Acta Materialia 120, 189-204, 2016                  16   \n",
       "2    Journal of Applied Physics 121 (5), 055304, 2017                  10   \n",
       "3                  Acta Materialia 151, 100-111, 2018                   8   \n",
       "4   Modelling and Simulation in Materials Science ...                   7   \n",
       "5   Journal of Alloys and Compounds 708, 989-998, ...                   6   \n",
       "6   Journal of Materials Engineering and Performan...                   4   \n",
       "7     Philosophical Magazine 93 (16), 2013-2025, 2013                   4   \n",
       "8                 Scripta Materialia 154, 25-29, 2018                   2   \n",
       "9   Advanced Engineering Materials 20 (8), 1800091...                   2   \n",
       "10     Physical Review Letters 122 (12), 126102, 2019                   1   \n",
       "11  UKRAINIAN JOURNAL OF PHYSICS 62 (12), 1031-104...                       \n",
       "\n",
       "    Year  \n",
       "0   2015  \n",
       "1   2016  \n",
       "2   2017  \n",
       "3   2018  \n",
       "4   2017  \n",
       "5   2017  \n",
       "6   2016  \n",
       "7   2013  \n",
       "8   2018  \n",
       "9   2018  \n",
       "10  2019  \n",
       "11  2017  "
      ]
     },
     "execution_count": 71,
     "metadata": {},
     "output_type": "execute_result"
    }
   ],
   "source": [
    "# make the list of column names\n",
    "column_names = [\"Publication title\", \"List of authors\", \"Journal information\", \"Number of citations\", \"Year\"]\n",
    "\n",
    "# create a new DataFrame using the column names we extracted above\n",
    "df2 = pd.DataFrame(columns = column_names)\n",
    "\n",
    "# add data to the DataFrame row by row\n",
    "for i,row in enumerate(data):\n",
    "    df2.loc[i] = row\n",
    "\n",
    "# show the final DataFrame\n",
    "df2"
   ]
  },
  {
   "cell_type": "markdown",
   "metadata": {},
   "source": [
    "That's it! Our DataFrame is ready for the analysis and visualization. In the next post, we will explore the ways to advance the data we extracted here by connecting it to external databases. We will extensively work with string transformations, **pandas** DataFrame manipulations, and data visualizations using **matplotlib** and **seaborn** modules."
   ]
  }
 ],
 "metadata": {
  "kernelspec": {
   "display_name": "Python 3",
   "language": "python",
   "name": "python3"
  },
  "language_info": {
   "codemirror_mode": {
    "name": "ipython",
    "version": 3
   },
   "file_extension": ".py",
   "mimetype": "text/x-python",
   "name": "python",
   "nbconvert_exporter": "python",
   "pygments_lexer": "ipython3",
   "version": "3.7.3"
  }
 },
 "nbformat": 4,
 "nbformat_minor": 2
}
